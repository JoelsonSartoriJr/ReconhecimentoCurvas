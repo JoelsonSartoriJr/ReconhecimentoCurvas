{
 "cells": [
  {
   "cell_type": "code",
   "execution_count": 21,
   "metadata": {},
   "outputs": [],
   "source": [
    "import matplotlib.pyplot as plt\n",
    "import pandas as pd\n"
   ]
  },
  {
   "cell_type": "code",
   "execution_count": 4,
   "metadata": {},
   "outputs": [
    {
     "data": {
      "text/html": [
       "<div>\n",
       "<style scoped>\n",
       "    .dataframe tbody tr th:only-of-type {\n",
       "        vertical-align: middle;\n",
       "    }\n",
       "\n",
       "    .dataframe tbody tr th {\n",
       "        vertical-align: top;\n",
       "    }\n",
       "\n",
       "    .dataframe thead th {\n",
       "        text-align: right;\n",
       "    }\n",
       "</style>\n",
       "<table border=\"1\" class=\"dataframe\">\n",
       "  <thead>\n",
       "    <tr style=\"text-align: right;\">\n",
       "      <th></th>\n",
       "      <th>Unnamed: 0</th>\n",
       "      <th>rede</th>\n",
       "      <th>epocas</th>\n",
       "      <th>maxLoss</th>\n",
       "      <th>maxValLoss</th>\n",
       "      <th>maxAcc</th>\n",
       "      <th>maxValAcc</th>\n",
       "      <th>minLoss</th>\n",
       "      <th>minValLoss</th>\n",
       "      <th>minAcc</th>\n",
       "      <th>minValAcc</th>\n",
       "      <th>meanLoss</th>\n",
       "      <th>meanValLoss</th>\n",
       "      <th>meanAcc</th>\n",
       "      <th>meanValAcc</th>\n",
       "    </tr>\n",
       "  </thead>\n",
       "  <tbody>\n",
       "    <tr>\n",
       "      <th>0</th>\n",
       "      <td>0</td>\n",
       "      <td>InceptionV3</td>\n",
       "      <td>1000</td>\n",
       "      <td>1.967311</td>\n",
       "      <td>4.176482</td>\n",
       "      <td>1.000000</td>\n",
       "      <td>4.176482</td>\n",
       "      <td>0.002740</td>\n",
       "      <td>0.260376</td>\n",
       "      <td>0.542795</td>\n",
       "      <td>0.496278</td>\n",
       "      <td>0.079813</td>\n",
       "      <td>1.050197</td>\n",
       "      <td>0.966133</td>\n",
       "      <td>0.788104</td>\n",
       "    </tr>\n",
       "    <tr>\n",
       "      <th>1</th>\n",
       "      <td>1</td>\n",
       "      <td>'VGG16'</td>\n",
       "      <td>1000</td>\n",
       "      <td>0.697106</td>\n",
       "      <td>1.416242</td>\n",
       "      <td>1.000000</td>\n",
       "      <td>1.416242</td>\n",
       "      <td>0.000514</td>\n",
       "      <td>0.060173</td>\n",
       "      <td>0.496208</td>\n",
       "      <td>0.466501</td>\n",
       "      <td>0.145512</td>\n",
       "      <td>0.296157</td>\n",
       "      <td>0.928204</td>\n",
       "      <td>0.890888</td>\n",
       "    </tr>\n",
       "    <tr>\n",
       "      <th>2</th>\n",
       "      <td>2</td>\n",
       "      <td>'VGG19'</td>\n",
       "      <td>1000</td>\n",
       "      <td>0.715888</td>\n",
       "      <td>0.740988</td>\n",
       "      <td>0.999120</td>\n",
       "      <td>0.740988</td>\n",
       "      <td>0.003340</td>\n",
       "      <td>0.127515</td>\n",
       "      <td>0.481040</td>\n",
       "      <td>0.466501</td>\n",
       "      <td>0.226744</td>\n",
       "      <td>0.344927</td>\n",
       "      <td>0.888629</td>\n",
       "      <td>0.860561</td>\n",
       "    </tr>\n",
       "    <tr>\n",
       "      <th>3</th>\n",
       "      <td>3</td>\n",
       "      <td>'mobilenet'</td>\n",
       "      <td>1000</td>\n",
       "      <td>2.451389</td>\n",
       "      <td>3.733323</td>\n",
       "      <td>0.983749</td>\n",
       "      <td>3.733323</td>\n",
       "      <td>0.048635</td>\n",
       "      <td>0.329058</td>\n",
       "      <td>0.482394</td>\n",
       "      <td>0.464020</td>\n",
       "      <td>0.255117</td>\n",
       "      <td>0.989981</td>\n",
       "      <td>0.877426</td>\n",
       "      <td>0.717288</td>\n",
       "    </tr>\n",
       "    <tr>\n",
       "      <th>4</th>\n",
       "      <td>4</td>\n",
       "      <td>'mobilenet'</td>\n",
       "      <td>5000</td>\n",
       "      <td>2.287450</td>\n",
       "      <td>4.797366</td>\n",
       "      <td>1.000000</td>\n",
       "      <td>4.797366</td>\n",
       "      <td>0.000043</td>\n",
       "      <td>0.207163</td>\n",
       "      <td>0.512324</td>\n",
       "      <td>0.498759</td>\n",
       "      <td>0.063974</td>\n",
       "      <td>0.883752</td>\n",
       "      <td>0.970071</td>\n",
       "      <td>0.827705</td>\n",
       "    </tr>\n",
       "  </tbody>\n",
       "</table>\n",
       "</div>"
      ],
      "text/plain": [
       "   Unnamed: 0         rede  epocas   maxLoss  maxValLoss    maxAcc  maxValAcc  \\\n",
       "0           0  InceptionV3    1000  1.967311    4.176482  1.000000   4.176482   \n",
       "1           1      'VGG16'    1000  0.697106    1.416242  1.000000   1.416242   \n",
       "2           2      'VGG19'    1000  0.715888    0.740988  0.999120   0.740988   \n",
       "3           3  'mobilenet'    1000  2.451389    3.733323  0.983749   3.733323   \n",
       "4           4  'mobilenet'    5000  2.287450    4.797366  1.000000   4.797366   \n",
       "\n",
       "    minLoss  minValLoss    minAcc  minValAcc  meanLoss  meanValLoss   meanAcc  \\\n",
       "0  0.002740    0.260376  0.542795   0.496278  0.079813     1.050197  0.966133   \n",
       "1  0.000514    0.060173  0.496208   0.466501  0.145512     0.296157  0.928204   \n",
       "2  0.003340    0.127515  0.481040   0.466501  0.226744     0.344927  0.888629   \n",
       "3  0.048635    0.329058  0.482394   0.464020  0.255117     0.989981  0.877426   \n",
       "4  0.000043    0.207163  0.512324   0.498759  0.063974     0.883752  0.970071   \n",
       "\n",
       "   meanValAcc  \n",
       "0    0.788104  \n",
       "1    0.890888  \n",
       "2    0.860561  \n",
       "3    0.717288  \n",
       "4    0.827705  "
      ]
     },
     "execution_count": 4,
     "metadata": {},
     "output_type": "execute_result"
    }
   ],
   "source": [
    "df = pd.read_csv(\"static.csv\")\n",
    "df.head()"
   ]
  },
  {
   "cell_type": "code",
   "execution_count": 9,
   "metadata": {},
   "outputs": [],
   "source": [
    "x= ['InceptionV3', 'VGG16', 'VGG19', 'mobilenet']"
   ]
  },
  {
   "cell_type": "code",
   "execution_count": 22,
   "metadata": {},
   "outputs": [],
   "source": [
    "y = [0.966133, 0.928204, 0.888629, 0.877426, 0.970071]\n",
    "[96,92,88,87,97]"
   ]
  },
  {
   "cell_type": "code",
   "execution_count": 37,
   "metadata": {},
   "outputs": [
    {
     "data": {
      "image/png": "[encoded data removed]",
      "text/plain": [
       "<Figure size 640x480 with 1 Axes>"
      ]
     },
     "metadata": {},
     "output_type": "display_data"
    }
   ],
   "source": [
    "import matplotlib.pyplot as plt; plt.rcdefaults()\n",
    "import numpy as np\n",
    "import matplotlib.pyplot as plt\n",
    " \n",
    "objects = ('InceptionV3', 'VGG16', 'VGG19', 'mobilenet')\n",
    "y_pos = np.arange(len(objects))\n",
    "performance = [96,92,88,87]\n",
    " \n",
    "plt.bar(y_pos, performance, align='center', alpha=0.5)\n",
    "plt.xticks(y_pos, objects)\n",
    "plt.ylabel('Usage')\n",
    "plt.title('Programming language usage')\n",
    " \n",
    "plt.show()"
   ]
  },
  {
   "cell_type": "code",
   "execution_count": null,
   "metadata": {},
   "outputs": [],
   "source": [
    "objects = ('InceptionV3', 'VGG16', 'VGG19', 'mobilenet')\n",
    "y_pos = np.arange(len(objects))\n",
    "performance = [96,92,88,87]\n",
    " \n",
    "plt.bar(y_pos, performance, align='center', alpha=0.5)\n",
    "plt.xticks(y_pos, objects)\n",
    "plt.ylabel('Usage')\n",
    "plt.title('Programming language usage')\n",
    " \n",
    "plt.show()"
   ]
  }
 ],
 "metadata": {
  "kernelspec": {
   "display_name": "Python 3",
   "language": "python",
   "name": "python3"
  },
  "language_info": {
   "codemirror_mode": {
    "name": "ipython",
    "version": 3
   },
   "file_extension": ".py",
   "mimetype": "text/x-python",
   "name": "python",
   "nbconvert_exporter": "python",
   "pygments_lexer": "ipython3",
   "version": "3.6.8"
  }
 },
 "nbformat": 4,
 "nbformat_minor": 2
}
