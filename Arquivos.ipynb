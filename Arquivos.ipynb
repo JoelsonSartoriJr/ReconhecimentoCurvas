{
 "cells": [
  {
   "cell_type": "code",
   "execution_count": 9,
   "metadata": {},
   "outputs": [],
   "source": [
    "import glob    "
   ]
  },
  {
   "cell_type": "code",
   "execution_count": 10,
   "metadata": {},
   "outputs": [
    {
     "name": "stdout",
     "output_type": "stream",
     "text": [
      "teste.csv criado\n"
     ]
    }
   ],
   "source": [
    "def createTest(data, nameFile):\n",
    "    file = open(nameFile, 'w')\n",
    "    for i in glob.glob(str(data)+'*.jpg'):\n",
    "        file.writelines(i+'\\n')\n",
    "    print(nameFile + ' criado')\n",
    "    file.close()\n",
    "    \n",
    "createTest('darknet/data/cat/', 'teste.csv')"
   ]
  },
  {
   "cell_type": "code",
   "execution_count": 47,
   "metadata": {},
   "outputs": [],
   "source": [
    "def filtra(infFile, outFile, words, newLine):\n",
    "  \n",
    "    openInFile = open(infFile, 'r')\n",
    "    openOutFile = open(outFile, 'w+')\n",
    "  \n",
    "    for line in openInFile:\n",
    "        for word in words:\n",
    "            if line[:len(word)] == word:\n",
    "                line = line.replace('\\n','')\n",
    "                openOutFile.write(line)\n",
    "        if line[:len(newLine)] == newLine:\n",
    "            openOutFile.write('\\n')\n",
    "    openInFile.close()\n",
    "    openOutFile.close()\n",
    "filtra('test.csv','filtra.csv',['Enter','cat'],'cat')"
   ]
  },
  {
   "cell_type": "code",
   "execution_count": 51,
   "metadata": {},
   "outputs": [],
   "source": [
    "def clear(infFile, outFile, words):\n",
    "  \n",
    "    openInFile = open(infFile, 'r')\n",
    "    openOutFile = open(outFile, 'w+')\n",
    "  \n",
    "    for line in openInFile:\n",
    "        for word in words:\n",
    "            if word == ' ':\n",
    "                line = line.replace(word, ',')\n",
    "            elif word == '.':\n",
    "                line = line.replace(word,'')\n",
    "            else:\n",
    "                line = line.replace(word, '')\n",
    "        openOutFile.write(line)\n",
    "    openInFile.close()\n",
    "    openOutFile.close()\n",
    "clear('filtra.csv', 'clear.csv', ['Enter Image Path: data/cat/','Predicted in ','cat: ','.', ':','jpg','seconds',' ','%'])"
   ]
  },
  {
   "cell_type": "code",
   "execution_count": null,
   "metadata": {},
   "outputs": [],
   "source": []
  }
 ],
 "metadata": {
  "kernelspec": {
   "display_name": "Python 3",
   "language": "python",
   "name": "python3"
  },
  "language_info": {
   "codemirror_mode": {
    "name": "ipython",
    "version": 3
   },
   "file_extension": ".py",
   "mimetype": "text/x-python",
   "name": "python",
   "nbconvert_exporter": "python",
   "pygments_lexer": "ipython3",
   "version": "3.6.5"
  }
 },
 "nbformat": 4,
 "nbformat_minor": 2
}
